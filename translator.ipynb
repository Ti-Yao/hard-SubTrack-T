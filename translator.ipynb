{
 "cells": [
  {
   "cell_type": "code",
   "execution_count": 1,
   "id": "9c81bf3d",
   "metadata": {},
   "outputs": [
    {
     "name": "stderr",
     "output_type": "stream",
     "text": [
      "Using state England server backend.\n"
     ]
    }
   ],
   "source": [
    "import os\n",
    "import srt\n",
    "from googletrans import Translator\n",
    "translator = Translator()\n",
    "import pandas as pd\n",
    "from tqdm import trange\n",
    "from translators import baidu as bd"
   ]
  },
  {
   "cell_type": "code",
   "execution_count": 2,
   "id": "955f535c",
   "metadata": {},
   "outputs": [],
   "source": [
    "def replace_with_dict(filename):\n",
    "    file = open(f\"{filename}_cn.srt\",\"rb\")\n",
    "    text = file.read()\n",
    "    for key in specific_dict.keys():\n",
    "        text = text.replace(str.encode(key), str.encode(specific_dict[key]))\n",
    "    text = text.decode('utf8')\n",
    "    file.close()\n",
    "    return text"
   ]
  },
  {
   "cell_type": "code",
   "execution_count": 3,
   "id": "046d0ae4",
   "metadata": {},
   "outputs": [],
   "source": [
    "def translate_file(filename, lang):\n",
    "    file = open(f\"{filename}_dict.srt\",\"r\")\n",
    "    subs = list(srt.parse(file))\n",
    "    for i in trange(len(subs), position = 0):\n",
    "        line = subs[i].content\n",
    "        current_translate = bd_translate = bd(line)\n",
    "        subs[i].content = current_translate\n",
    "    fo = open(f\"{filename}_{lang}.srt\",\"wb\")\n",
    "    fo.write(srt.compose(subs).encode('utf8'))\n",
    "    fo.close()"
   ]
  },
  {
   "cell_type": "code",
   "execution_count": 4,
   "id": "4d8965e6",
   "metadata": {},
   "outputs": [],
   "source": [
    "name = 'jixiaolan'\n",
    "series = 1\n",
    "path = f'{name}/Series{series}'\n",
    "\n",
    "specific_dict = pd.read_csv('jixiaolan_specific_phrases.csv', delimiter = '\\t').set_index('phrase')['translation'].to_dict()\n",
    "\n",
    "files = []\n",
    "for file in os.listdir(path):\n",
    "    if file.endswith(\".srt\") and '_cn' in file:\n",
    "        files.append(os.path.join(path, file.replace('_cn.srt','')))\n",
    "files = sorted(files)"
   ]
  },
  {
   "cell_type": "code",
   "execution_count": 5,
   "id": "8f12a2f7",
   "metadata": {},
   "outputs": [],
   "source": [
    "for filename in files:\n",
    "    text = replace_with_dict(filename)\n",
    "    fw = open(f\"{filename}_dict.srt\",\"w\")\n",
    "    fw.write(text)\n",
    "    fw.close()\n",
    "    "
   ]
  },
  {
   "cell_type": "code",
   "execution_count": null,
   "id": "a86f50cb",
   "metadata": {},
   "outputs": [
    {
     "name": "stderr",
     "output_type": "stream",
     "text": [
      "\n",
      "  1%|▌                                          | 12/961 [00:56<1:15:41,  4.79s/it]\u001b[A"
     ]
    }
   ],
   "source": [
    "for i in trange(6,41, position = 1):\n",
    "    translate_file(f'jixiaolan/Series1/jixiaolan_S01E{i:02d}', 'en')\n"
   ]
  },
  {
   "cell_type": "code",
   "execution_count": null,
   "id": "851456d0",
   "metadata": {},
   "outputs": [],
   "source": []
  }
 ],
 "metadata": {
  "kernelspec": {
   "display_name": "Python 3 (ipykernel)",
   "language": "python",
   "name": "python3"
  },
  "language_info": {
   "codemirror_mode": {
    "name": "ipython",
    "version": 3
   },
   "file_extension": ".py",
   "mimetype": "text/x-python",
   "name": "python",
   "nbconvert_exporter": "python",
   "pygments_lexer": "ipython3",
   "version": "3.10.6"
  }
 },
 "nbformat": 4,
 "nbformat_minor": 5
}
