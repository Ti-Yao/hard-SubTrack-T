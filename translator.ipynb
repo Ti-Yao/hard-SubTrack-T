{
 "cells": [
  {
   "cell_type": "code",
   "execution_count": 1,
   "id": "9c81bf3d",
   "metadata": {},
   "outputs": [
    {
     "name": "stderr",
     "output_type": "stream",
     "text": [
      "2022-10-03 14:31:03.921 | WARNING  | bdtr.get_baiduid_token:get_baiduid_token:29 - Only tested in Windows, Linux/OSx may not work\n",
      "2022-10-03 14:31:04.775 | WARNING  | bdtr.get_baiduid_token:get_baiduid_token:59 - 未有登录百度，无法继续\n"
     ]
    }
   ],
   "source": [
    "import os\n",
    "import srt\n",
    "# from googletrans import Translator\n",
    "import pandas as pd\n",
    "from tqdm import trange\n",
    "from bdtr import bdtr"
   ]
  },
  {
   "cell_type": "code",
   "execution_count": 2,
   "id": "046d0ae4",
   "metadata": {},
   "outputs": [],
   "source": [
    "def translate_file(filename, lang):\n",
    "    file = open(f\"{filename}.srt\",\"r\")\n",
    "    subs = list(srt.parse(file))\n",
    "#     for i in trange(len(subs), position = 0):\n",
    "#         line = subs[i].content\n",
    "#         for key in specific_dict.keys():\n",
    "#             line = line.replace(key, specific_dict[key])\n",
    "#         current_translate = bdtr(line, from_lang='zh', to_lang=lang)\n",
    "#         subs[i].content = current_translate\n",
    "    fo = open(f\"{filename}_{lang}.srt\",\"wb\")\n",
    "    fo.write(srt.compose(subs).encode('utf8'))\n",
    "    fo.close()"
   ]
  },
  {
   "cell_type": "code",
   "execution_count": 3,
   "id": "955f535c",
   "metadata": {},
   "outputs": [],
   "source": [
    "def replace_with_dict(filename):\n",
    "    file = open(f\"{filename}.srt\",\"rb\")\n",
    "    text = file.read()\n",
    "    for key in specific_dict.keys():\n",
    "        text = text.replace(str.encode(key), str.encode(specific_dict[key]))\n",
    "    text = text.decode('utf8')\n",
    "    file.close()\n",
    "    return text"
   ]
  },
  {
   "cell_type": "code",
   "execution_count": 4,
   "id": "4d8965e6",
   "metadata": {},
   "outputs": [],
   "source": [
    "name = 'jixiaolan'\n",
    "series = 1\n",
    "path = f'{name}/Series{series}'"
   ]
  },
  {
   "cell_type": "code",
   "execution_count": 5,
   "id": "6592d8a9",
   "metadata": {},
   "outputs": [],
   "source": [
    "files = []\n",
    "for file in os.listdir(path):\n",
    "    if file.endswith(\".srt\") and '_en' not in file:\n",
    "        files.append(os.path.join(path, file.replace('.srt','')))"
   ]
  },
  {
   "cell_type": "code",
   "execution_count": 6,
   "id": "ad95f20a",
   "metadata": {
    "scrolled": false
   },
   "outputs": [],
   "source": [
    "specific_dict = pd.read_csv('jixiaolan_specific_phrases.csv').set_index('phrase')['translation'].to_dict()"
   ]
  },
  {
   "cell_type": "code",
   "execution_count": 7,
   "id": "8f12a2f7",
   "metadata": {},
   "outputs": [],
   "source": [
    "for filename in files:\n",
    "    text = replace_with_dict(filename)\n",
    "    fw = open(f\"{filename}_en.srt\",\"w\")\n",
    "    fw.write(text)\n",
    "    fw.close()\n",
    "    "
   ]
  },
  {
   "cell_type": "code",
   "execution_count": null,
   "id": "a86f50cb",
   "metadata": {},
   "outputs": [
    {
     "name": "stderr",
     "output_type": "stream",
     "text": [
      "\n",
      "  0%|                                                   | 0/745 [00:00<?, ?it/s]\u001b[A"
     ]
    }
   ],
   "source": [
    "for i in trange(1,40, position = 1):\n",
    "    translate_file(f'jixiaolan/Series1/jixiaolan_S01E{i:02d}', 'en')\n"
   ]
  },
  {
   "cell_type": "code",
   "execution_count": null,
   "id": "8943d5dd",
   "metadata": {},
   "outputs": [],
   "source": []
  }
 ],
 "metadata": {
  "kernelspec": {
   "display_name": "Python 3",
   "language": "python",
   "name": "python3"
  },
  "language_info": {
   "codemirror_mode": {
    "name": "ipython",
    "version": 3
   },
   "file_extension": ".py",
   "mimetype": "text/x-python",
   "name": "python",
   "nbconvert_exporter": "python",
   "pygments_lexer": "ipython3",
   "version": "3.10.6"
  }
 },
 "nbformat": 4,
 "nbformat_minor": 5
}
