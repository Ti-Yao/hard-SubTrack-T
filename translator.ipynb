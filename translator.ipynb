{
 "cells": [
  {
   "cell_type": "code",
   "execution_count": 2,
   "id": "9c81bf3d",
   "metadata": {},
   "outputs": [],
   "source": [
    "import os\n",
    "import srt\n",
    "from googletrans import Translator\n",
    "import pandas as pd"
   ]
  },
  {
   "cell_type": "code",
   "execution_count": 3,
   "id": "4d8965e6",
   "metadata": {},
   "outputs": [],
   "source": [
    "name = 'jixiaolan'\n",
    "series = 1\n",
    "path = f'{name}/Series{series}'"
   ]
  },
  {
   "cell_type": "code",
   "execution_count": 4,
   "id": "6592d8a9",
   "metadata": {},
   "outputs": [],
   "source": [
    "files = []\n",
    "for file in os.listdir(path):\n",
    "    if file.endswith(\".srt\") and '_en' not in file:\n",
    "        files.append(os.path.join(path, file.replace('.srt','')))"
   ]
  },
  {
   "cell_type": "code",
   "execution_count": 22,
   "id": "ad95f20a",
   "metadata": {
    "scrolled": false
   },
   "outputs": [],
   "source": [
    "specific_dict = pd.read_csv('jixiaolan_specific_phrases.csv', delimiter = '\\t', on_bad_lines='skip').set_index('phrase')['translation'].to_dict()"
   ]
  },
  {
   "cell_type": "code",
   "execution_count": 23,
   "id": "046d0ae4",
   "metadata": {},
   "outputs": [],
   "source": [
    "def translate_file(filename, lang):\n",
    "    file = open(f\"{filename}.srt\",\"r\")\n",
    "    subs = list(srt.parse(file))\n",
    "    for i in range(len(subs)):\n",
    "        line = subs[i].content\n",
    "        for key in specific_dict.keys():\n",
    "            line = line.replace(key, specific_dict[key])\n",
    "        current_translate = translator.translate(str(line), dest=lang).text.encode('utf-8').decode('utf-8')\n",
    "        subs[i].content = current_translate\n",
    "    fo = open(f\"{filename}_{lang}.srt\",\"wb\")\n",
    "    fo.write(srt.compose(subs).encode('utf8'))\n",
    "    fo.close()"
   ]
  },
  {
   "cell_type": "code",
   "execution_count": 26,
   "id": "a86f50cb",
   "metadata": {},
   "outputs": [],
   "source": [
    "translator = Translator()\n",
    "for filename in sorted(files):\n",
    "    translate_file(filename, 'en')\n"
   ]
  },
  {
   "cell_type": "code",
   "execution_count": null,
   "id": "4eb67789",
   "metadata": {},
   "outputs": [],
   "source": []
  }
 ],
 "metadata": {
  "kernelspec": {
   "display_name": "Python 3 (ipykernel)",
   "language": "python",
   "name": "python3"
  },
  "language_info": {
   "codemirror_mode": {
    "name": "ipython",
    "version": 3
   },
   "file_extension": ".py",
   "mimetype": "text/x-python",
   "name": "python",
   "nbconvert_exporter": "python",
   "pygments_lexer": "ipython3",
   "version": "3.10.6"
  }
 },
 "nbformat": 4,
 "nbformat_minor": 5
}
