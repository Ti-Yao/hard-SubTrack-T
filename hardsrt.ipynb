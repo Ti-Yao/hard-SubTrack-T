{
 "cells": [
  {
   "cell_type": "code",
   "execution_count": 1,
   "id": "da0ebb62",
   "metadata": {},
   "outputs": [],
   "source": [
    "from easyocr import Reader\n",
    "import re\n",
    "import pandas as pd\n",
    "import numpy as np\n",
    "import cv2\n",
    "import matplotlib.pyplot as plt\n",
    "from PIL import Image\n",
    "from tqdm.auto import trange,tqdm\n",
    "from datetime import timedelta\n",
    "from srt import Subtitle,compose,parse\n",
    "from difflib import SequenceMatcher\n",
    "import os.path\n",
    "from googletrans import Translator\n",
    "\n",
    "translator = Translator()"
   ]
  },
  {
   "cell_type": "code",
   "execution_count": 2,
   "id": "90c8afda",
   "metadata": {},
   "outputs": [],
   "source": [
    "name = 'jixiaolan'\n",
    "series = 1\n",
    "ep = 1\n",
    "filename = f\"{name}/Series{series}/{name}_S0{series}E{ep:02d}.mp4\""
   ]
  },
  {
   "cell_type": "code",
   "execution_count": 3,
   "id": "55eccd42",
   "metadata": {
    "scrolled": false
   },
   "outputs": [
    {
     "name": "stderr",
     "output_type": "stream",
     "text": [
      "CUDA not available - defaulting to CPU. Note: This module is much faster with a GPU.\n"
     ]
    }
   ],
   "source": [
    "reader_ch = Reader(['ch_sim'])\n",
    "common_dict = pd.read_csv('common_chinese_words.csv').set_index('word')['rank'].to_dict()\n",
    "# Open the video\n",
    "cap = cv2.VideoCapture(filename)\n",
    "# Some characteristics from the original video\n",
    "fps, frames = cap.get(cv2.CAP_PROP_FPS), cap.get(cv2.CAP_PROP_FRAME_COUNT)\n",
    "second = frames/fps"
   ]
  },
  {
   "cell_type": "code",
   "execution_count": 4,
   "id": "5c74bba9",
   "metadata": {},
   "outputs": [],
   "source": [
    "def make_gray(img):\n",
    "    if np.max(img) <= 1:\n",
    "        img *= 255\n",
    "    gray = Image.fromarray((img).astype(np.uint8)).convert('L')\n",
    "    return np.array(gray)\n",
    "\n",
    "\n",
    "def dilate_erode(img):\n",
    "    img = Image.fromarray(img.astype('uint8')).convert('L')\n",
    "    img = np.array(img)  \n",
    "    \n",
    "    kernel = np.ones((2,2), np.uint8)\n",
    "    img = cv2.dilate(img, kernel, iterations = 4 )\n",
    "    # Creating kernel\n",
    "    kernel = np.ones((2, 2), np.uint8)\n",
    "    # Using cv2.erode() method \n",
    "    img = cv2.erode(img, kernel,iterations = 5 )\n",
    "    \n",
    "    \n",
    "    return np.array(img)\n",
    "\n",
    "def get_x(list_of_lists):\n",
    "    pos=np.array([np.array(xi) for xi in list_of_lists[0]])\n",
    "    x = pos[:,0]\n",
    "    return int(x.min()),int(x.max())\n",
    "\n",
    "def get_frame(frame_no):\n",
    "    cap.set(1,frame_no)\n",
    "    # Here you can define your croping values\n",
    "    x1,x2,y1,y2 = 935,1015,150,1920-150\n",
    "    #Read the next frame from the video. If you set frame 749 above then the code will return the last frame.\n",
    "    ret, frame = cap.read()\n",
    "    crop_frame = frame[x1:x2,y1:y2,:]   \n",
    "    ret,crop_frame = cv2.threshold(make_gray(crop_frame),200,255,cv2.THRESH_BINARY_INV)\n",
    "    return crop_frame\n",
    "\n",
    "def clean(word):\n",
    "    word = word.replace('八八','小').replace('和坤','和').replace('和','和珅')\n",
    "    if len(word)==2 and (word[1] in ['一','二','三'] or word[1] not in common_dict.keys() ):\n",
    "        word = word[0]\n",
    "    elif len(word)>=2 and word[-1] in ['一','二','三']:\n",
    "        word = word[:-1]\n",
    "    return word\n",
    "\n",
    "def check_sub_area():    \n",
    "    cap.set(1,frame_no)\n",
    "    ret, frame = cap.read()\n",
    "    plt.imshow(frame)\n",
    "    plt.show()\n",
    "    x1,x2,y1,y2 = 935,1015,150,1920-150\n",
    "    #Read the next frame from the video. If you set frame 749 above then the code will return the last frame.\n",
    "    crop_frame = frame[x1:x2,y1:y2,:]   \n",
    "    ret,crop_frame = cv2.threshold(make_gray(crop_frame),200,255,cv2.THRESH_BINARY_INV)\n",
    "    plt.imshow(crop_frame)\n",
    "    plt.show()"
   ]
  },
  {
   "cell_type": "code",
   "execution_count": 5,
   "id": "087c20df",
   "metadata": {},
   "outputs": [],
   "source": [
    "def get_text(crop_frame):\n",
    "    result = reader_ch.readtext(dilate_erode(make_gray(cv2.bitwise_not(crop_frame))),link_threshold=0.99999,width_ths=0,min_size = 75)\n",
    "#     og= reader_ch.readtext(make_gray(cv2.bitwise_not(crop_frame)),link_threshold=0.99999)\n",
    "    # plt.imshow(dilate_erode(make_gray(cv2.bitwise_not(crop_frame))))\n",
    "\n",
    "#     og_sent = ''\n",
    "    new_results = {}\n",
    "    old_results = {}\n",
    "    for i in range(len(result)):\n",
    "        if '' != result[i][1]:\n",
    "            x_min, x_max = get_x(result[i])\n",
    "            word_crop = crop_frame[:,x_min:x_max]\n",
    "            word = reader_ch.readtext(make_gray(cv2.bitwise_not(word_crop)))\n",
    "            if len(word)!= 0:\n",
    "                new_clean_word = clean(re.sub(u'[^\\u4E00-\\u9FA5]','',' '.join(word[0][1])))\n",
    "                prob = word[0][-1]\n",
    "                new_x_min, new_x_max = get_x(word[0])\n",
    "                new_results[i] = {'pos':[x_min,x_max],'word':new_clean_word,'prob':prob}\n",
    "            old_clean_word = clean(re.sub(u'[^\\u4E00-\\u9FA5]','',' '.join(result[i][1])))\n",
    "            old_results[i] =  {'pos':[x_min,x_max],'word':old_clean_word,'prob':result[i][-1]}\n",
    "#     for i in range(len(og)):     \n",
    "#         og_sent += re.sub(u'[^\\u4E00-\\u9FA5]','',' '.join(og[i][1]))\n",
    "\n",
    "    sentence = ''\n",
    "    for i in range(len(new_results)):\n",
    "        if i in new_results.keys():\n",
    "            if new_results[i]['word'] == old_results[i]['word']:\n",
    "                sentence+= new_results[i]['word']\n",
    "#             elif new_results[i]['word'] != old_results[i]['word'] and new_results[i]['word'] in og_sent:\n",
    "#                 sentence+= new_results[i]['word']\n",
    "#             elif new_results[i]['word'] != old_results[i]['word'] and old_results[i]['word'] in og_sent:\n",
    "#                 sentence+= old_results[i]['word']\n",
    "            elif new_results[i]['prob'] > old_results[i]['prob'] + 0.01:\n",
    "                sentence+= new_results[i]['word']\n",
    "            elif new_results[i]['prob'] < old_results[i]['prob'] + 0.01:\n",
    "                sentence+= old_results[i]['word']\n",
    "            else:\n",
    "                new_rank = common_dict[new_results[i]['word']]\n",
    "                old_rank = common_dict[old_results[i]['word']]\n",
    "                if new_rank < old_rank:\n",
    "                    sentence += new_results[i]['word']\n",
    "                else:\n",
    "                    sentence += old_results[i]['word']\n",
    "        else:\n",
    "            try:\n",
    "                sentence+=old_results[i]['word']\n",
    "            except:\n",
    "                pass\n",
    "    return sentence"
   ]
  },
  {
   "cell_type": "code",
   "execution_count": null,
   "id": "7b5e7157",
   "metadata": {
    "scrolled": false
   },
   "outputs": [
    {
     "data": {
      "application/vnd.jupyter.widget-view+json": {
       "model_id": "107736654bfd49328de420430893ca4d",
       "version_major": 2,
       "version_minor": 0
      },
      "text/plain": [
       "  0%|          | 0/1525 [00:00<?, ?it/s]"
      ]
     },
     "metadata": {},
     "output_type": "display_data"
    }
   ],
   "source": [
    "read_rate = 0.8\n",
    "first_second = (120)/read_rate\n",
    "filename = filename.replace('mp4','srt')\n",
    "buffer = 0.2\n",
    "subtract = buffer\n",
    "\n",
    "if os.path.isfile(filename):\n",
    "    fr = open(filename, \"r\")  \n",
    "    subs = list(parse(fr.read()))\n",
    "    fr.close()\n",
    "    if len(subs) == 0:\n",
    "        subs = []\n",
    "        index = 1\n",
    "        current_text = ''    \n",
    "        last_time = 0\n",
    "    else:\n",
    "        last_time = subs[-1].end.seconds - first_second \n",
    "        index = subs[-1].index\n",
    "        current_text = subs[-1].content    \n",
    "else:\n",
    "    open(filename, 'w').close()\n",
    "    subs = []\n",
    "    index = 1\n",
    "    current_text = ''    \n",
    "    last_time = 0\n",
    "    \n",
    "for i in tqdm(np.arange(first_second + last_time, int(second)/read_rate-first_second , read_rate)):   \n",
    "    i = i * read_rate\n",
    "    crop_frame = get_frame(i * fps)\n",
    "    text = get_text(crop_frame)\n",
    "    current_start_time = timedelta(seconds = i)            \n",
    "    if len(text) != 0:\n",
    "        if SequenceMatcher(None, text, current_text).ratio() < 0.2 or abs(len(text) - len(current_text)) > 3:\n",
    "            current_text = text\n",
    "            if len(subs) > 1:\n",
    "                last_diff = (timedelta(seconds=(i + read_rate)) - subs[-1].end).total_seconds()\n",
    "                subtract = buffer if last_diff < buffer else last_diff - read_rate\n",
    "                subtract = subtract if subtract < buffer else buffer\n",
    "            subs.append(Subtitle(index = index, \n",
    "                                 start = timedelta(seconds = i - subtract + 0.0005), \n",
    "                                 end = timedelta(seconds=(i + buffer - 0.0005)), \n",
    "                                 content = translator.translate(text, dest='en').text.encode('utf-8').decode('utf-8').replace('\\n','')))\n",
    "            index +=1\n",
    "            f = open(filename, \"w\")  \n",
    "            f.write(compose(subs))\n",
    "            f.close()\n",
    "        else:\n",
    "            subs[-1].end = timedelta(seconds=(i + buffer - 0.0005))\n",
    "            f = open(filename, \"w\")  \n",
    "            f.write(compose(subs))\n",
    "            f.close()\n"
   ]
  },
  {
   "cell_type": "code",
   "execution_count": null,
   "id": "719f34af",
   "metadata": {},
   "outputs": [],
   "source": []
  }
 ],
 "metadata": {
  "kernelspec": {
   "display_name": "Python 3 (ipykernel)",
   "language": "python",
   "name": "python3"
  },
  "language_info": {
   "codemirror_mode": {
    "name": "ipython",
    "version": 3
   },
   "file_extension": ".py",
   "mimetype": "text/x-python",
   "name": "python",
   "nbconvert_exporter": "python",
   "pygments_lexer": "ipython3",
   "version": "3.10.6"
  }
 },
 "nbformat": 4,
 "nbformat_minor": 5
}
