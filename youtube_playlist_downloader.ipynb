{
 "cells": [
  {
   "cell_type": "code",
   "execution_count": 28,
   "id": "53a05c91",
   "metadata": {},
   "outputs": [],
   "source": [
    "import subprocess\n",
    "import yt_dlp\n",
    "from tqdm.notebook import tqdm\n",
    "import os"
   ]
  },
  {
   "cell_type": "code",
   "execution_count": 40,
   "id": "892a6bf8",
   "metadata": {},
   "outputs": [],
   "source": [
    "playlist_url = 'https://www.youtube.com/playlist?list=PLTr7_al7xN6BOwdvtwHQYAcxZVXXeoClv'\n",
    "name = 'jixiaolan'\n",
    "series = 1\n",
    "save_file = f'{name}/Series{series}/series_{series}_urls.txt'"
   ]
  },
  {
   "cell_type": "code",
   "execution_count": 42,
   "id": "3d9f443a",
   "metadata": {},
   "outputs": [],
   "source": [
    "def runcommand(bashCommand):\n",
    "    process = subprocess.Popen(bashCommand.split(), stdout=subprocess.PIPE)\n",
    "    output, error = process.communicate()"
   ]
  },
  {
   "cell_type": "code",
   "execution_count": 43,
   "id": "7bff7423",
   "metadata": {},
   "outputs": [],
   "source": [
    "if not os.path.isfile(save_file):\n",
    "    runcommand(f'''yt-dlp \n",
    "                  {playlist_url} \n",
    "                  --flat-playlist \n",
    "                  --print-to-file \n",
    "                  %(url)s\n",
    "                  {save_file}''')"
   ]
  },
  {
   "cell_type": "code",
   "execution_count": 35,
   "id": "6151b8b1",
   "metadata": {},
   "outputs": [],
   "source": [
    "ep_urls = open(save_file,'r').read().split('\\n')"
   ]
  },
  {
   "cell_type": "code",
   "execution_count": 45,
   "id": "86a7b731",
   "metadata": {},
   "outputs": [
    {
     "data": {
      "application/vnd.jupyter.widget-view+json": {
       "model_id": "0ac1d2013f72425a85b1baba647bb447",
       "version_major": 2,
       "version_minor": 0
      },
      "text/plain": [
       "  0%|          | 0/41 [00:00<?, ?it/s]"
      ]
     },
     "metadata": {},
     "output_type": "display_data"
    },
    {
     "name": "stdout",
     "output_type": "stream",
     "text": [
      "jixiaolan/Series1/jixiaolan_S01E05.mp4\n",
      "jixiaolan/Series1/jixiaolan_S01E06.mp4\n",
      "jixiaolan/Series1/jixiaolan_S01E07.mp4\n"
     ]
    },
    {
     "name": "stderr",
     "output_type": "stream",
     "text": [
      "\n",
      "ERROR: Interrupted by user\n"
     ]
    },
    {
     "ename": "KeyboardInterrupt",
     "evalue": "",
     "output_type": "error",
     "traceback": [
      "\u001b[0;31m---------------------------------------------------------------------------\u001b[0m",
      "\u001b[0;31mKeyboardInterrupt\u001b[0m                         Traceback (most recent call last)",
      "Cell \u001b[0;32mIn [45], line 5\u001b[0m\n\u001b[1;32m      3\u001b[0m \u001b[38;5;28;01mif\u001b[39;00m \u001b[38;5;129;01mnot\u001b[39;00m os\u001b[38;5;241m.\u001b[39mpath\u001b[38;5;241m.\u001b[39misfile(filename):\n\u001b[1;32m      4\u001b[0m     \u001b[38;5;28mprint\u001b[39m(filename)\n\u001b[0;32m----> 5\u001b[0m     \u001b[43mruncommand\u001b[49m\u001b[43m(\u001b[49m\u001b[38;5;124;43mf\u001b[39;49m\u001b[38;5;124;43m'''\u001b[39;49m\u001b[38;5;124;43myt-dlp -f bv*+ba -S ext:mp4:m4a \u001b[39;49m\u001b[38;5;132;43;01m{\u001b[39;49;00m\u001b[43murl\u001b[49m\u001b[38;5;132;43;01m}\u001b[39;49;00m\u001b[38;5;124;43m -o \u001b[39;49m\u001b[38;5;132;43;01m{\u001b[39;49;00m\u001b[43mfilename\u001b[49m\u001b[38;5;132;43;01m}\u001b[39;49;00m\u001b[38;5;124;43m'''\u001b[39;49m\u001b[43m)\u001b[49m\n",
      "Cell \u001b[0;32mIn [42], line 3\u001b[0m, in \u001b[0;36mruncommand\u001b[0;34m(bashCommand)\u001b[0m\n\u001b[1;32m      1\u001b[0m \u001b[38;5;28;01mdef\u001b[39;00m \u001b[38;5;21mruncommand\u001b[39m(bashCommand):\n\u001b[1;32m      2\u001b[0m     process \u001b[38;5;241m=\u001b[39m subprocess\u001b[38;5;241m.\u001b[39mPopen(bashCommand\u001b[38;5;241m.\u001b[39msplit(), stdout\u001b[38;5;241m=\u001b[39msubprocess\u001b[38;5;241m.\u001b[39mPIPE)\n\u001b[0;32m----> 3\u001b[0m     output, error \u001b[38;5;241m=\u001b[39m \u001b[43mprocess\u001b[49m\u001b[38;5;241;43m.\u001b[39;49m\u001b[43mcommunicate\u001b[49m\u001b[43m(\u001b[49m\u001b[43m)\u001b[49m\n",
      "File \u001b[0;32m/usr/lib/python3.10/subprocess.py:1139\u001b[0m, in \u001b[0;36mPopen.communicate\u001b[0;34m(self, input, timeout)\u001b[0m\n\u001b[1;32m   1137\u001b[0m     \u001b[38;5;28mself\u001b[39m\u001b[38;5;241m.\u001b[39m_stdin_write(\u001b[38;5;28minput\u001b[39m)\n\u001b[1;32m   1138\u001b[0m \u001b[38;5;28;01melif\u001b[39;00m \u001b[38;5;28mself\u001b[39m\u001b[38;5;241m.\u001b[39mstdout:\n\u001b[0;32m-> 1139\u001b[0m     stdout \u001b[38;5;241m=\u001b[39m \u001b[38;5;28;43mself\u001b[39;49m\u001b[38;5;241;43m.\u001b[39;49m\u001b[43mstdout\u001b[49m\u001b[38;5;241;43m.\u001b[39;49m\u001b[43mread\u001b[49m\u001b[43m(\u001b[49m\u001b[43m)\u001b[49m\n\u001b[1;32m   1140\u001b[0m     \u001b[38;5;28mself\u001b[39m\u001b[38;5;241m.\u001b[39mstdout\u001b[38;5;241m.\u001b[39mclose()\n\u001b[1;32m   1141\u001b[0m \u001b[38;5;28;01melif\u001b[39;00m \u001b[38;5;28mself\u001b[39m\u001b[38;5;241m.\u001b[39mstderr:\n",
      "\u001b[0;31mKeyboardInterrupt\u001b[0m: "
     ]
    }
   ],
   "source": [
    "for i, url in enumerate(tqdm(ep_urls)):\n",
    "    filename = f\"{name}/Series{series}/{name}_S0{series}E{i+1:02d}.mp4\"\n",
    "    if not os.path.isfile(filename):\n",
    "        print(filename)\n",
    "        runcommand(f'''yt-dlp -f bv*+ba -S ext:mp4:m4a {url} -o {filename}''')"
   ]
  },
  {
   "cell_type": "code",
   "execution_count": null,
   "id": "8f0141a4",
   "metadata": {},
   "outputs": [],
   "source": []
  }
 ],
 "metadata": {
  "kernelspec": {
   "display_name": "Python 3 (ipykernel)",
   "language": "python",
   "name": "python3"
  },
  "language_info": {
   "codemirror_mode": {
    "name": "ipython",
    "version": 3
   },
   "file_extension": ".py",
   "mimetype": "text/x-python",
   "name": "python",
   "nbconvert_exporter": "python",
   "pygments_lexer": "ipython3",
   "version": "3.10.6"
  }
 },
 "nbformat": 4,
 "nbformat_minor": 5
}
